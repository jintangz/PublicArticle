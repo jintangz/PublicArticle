{
 "cells": [
  {
   "cell_type": "code",
   "execution_count": 2,
   "id": "d8186743",
   "metadata": {},
   "outputs": [],
   "source": [
    "import numpy as np\n",
    "import pandas as pd\n",
    "import statsmodels.api as sm\n",
    "from scipy import stats\n",
    "\n",
    "# 设置随机种子\n",
    "np.random.seed(42)\n"
   ]
  },
  {
   "cell_type": "code",
   "execution_count": 3,
   "id": "8edc35c0",
   "metadata": {},
   "outputs": [],
   "source": [
    "# 实验参数\n",
    "n = 10000  # 总样本量\n",
    "tau = 0.1  # 真实处理效应\n",
    "strata_weights = np.array([0.5, 0.3, 0.2])  # 层权重\n",
    "n_strata = len(strata_weights)\n",
    "\n",
    "# 生成分层变量\n",
    "strata = np.random.choice([0, 1, 2], size=n, p=strata_weights)\n",
    "\n",
    "# 生成协变量X（实验前指标）\n",
    "X = np.zeros(n)\n",
    "for s in range(n_strata):\n",
    "    mask = (strata == s)\n",
    "    size = mask.sum()\n",
    "    if s == 0:\n",
    "        X[mask] = np.random.normal(10, 2, size)\n",
    "    elif s == 1:\n",
    "        X[mask] = np.random.normal(20, 4, size)\n",
    "    else:\n",
    "        X[mask] = np.random.normal(30, 6, size)\n",
    "\n",
    "# 生成处理组分配（整体随机化）\n",
    "treatment = np.random.choice([0, 1], size=n, p=[0.5, 0.5])\n",
    "\n",
    "# 生成结果变量Y（实验后指标）\n",
    "epsilon = np.random.normal(0, 3, n)  # 噪声项\n",
    "Y = X + tau * treatment + epsilon\n",
    "\n",
    "# 创建数据框\n",
    "df = pd.DataFrame({\n",
    "    'strata': strata,\n",
    "    'X': X,\n",
    "    'treatment': treatment,\n",
    "    'Y': Y\n",
    "})\n",
    "\n",
    "# 事前分层采样数据（分层随机化）\n",
    "df_stratified = df.copy()\n",
    "df_stratified['treatment_stratified'] = 0\n",
    "for s in range(n_strata):\n",
    "    mask = (df_stratified['strata'] == s)\n",
    "    size = mask.sum()\n",
    "    df_stratified.loc[mask, 'treatment_stratified'] = np.random.choice(\n",
    "        [0, 1], size=size, p=[0.5, 0.5]\n",
    "    )"
   ]
  },
  {
   "cell_type": "code",
   "execution_count": 4,
   "id": "f1029261",
   "metadata": {},
   "outputs": [],
   "source": [
    "def simple_random_sampling(df):\n",
    "    control = df[df['treatment'] == 0]['Y']\n",
    "    treated = df[df['treatment'] == 1]['Y']\n",
    "    \n",
    "    ate = treated.mean() - control.mean()\n",
    "    var_ate = control.var()/len(control) + treated.var()/len(treated)\n",
    "    se = np.sqrt(var_ate)\n",
    "    ci_low = ate - 1.96 * se\n",
    "    ci_high = ate + 1.96 * se\n",
    "    t_stat = ate / se\n",
    "    p_value = 2 * (1 - stats.norm.cdf(abs(t_stat)))\n",
    "    \n",
    "    return {\n",
    "        'method': 'Simple Random Sampling',\n",
    "        'ate': ate,\n",
    "        'se': se,\n",
    "        'ci_low': ci_low,\n",
    "        'ci_high': ci_high,\n",
    "        'p_value': p_value\n",
    "    }"
   ]
  },
  {
   "cell_type": "code",
   "execution_count": 5,
   "id": "5584677f",
   "metadata": {},
   "outputs": [
    {
     "data": {
      "text/plain": [
       "{'method': 'Simple Random Sampling',\n",
       " 'ate': np.float64(0.12195268728070019),\n",
       " 'se': np.float64(0.18406137158835204),\n",
       " 'ci_low': np.float64(-0.23880760103246979),\n",
       " 'ci_high': np.float64(0.48271297559387016),\n",
       " 'p_value': np.float64(0.5076089674342916)}"
      ]
     },
     "execution_count": 5,
     "metadata": {},
     "output_type": "execute_result"
    }
   ],
   "source": [
    "simple_random_sampling(df)"
   ]
  },
  {
   "cell_type": "code",
   "execution_count": 27,
   "id": "152ebf12",
   "metadata": {},
   "outputs": [],
   "source": [
    "def stratified_sampling(df, strata_weights: np.ndarray=np.array([0.5, 0.3, 0.2])):\n",
    "    # 存储每个分层的均值\n",
    "    strata_means_control = []\n",
    "    strata_means_treated = []\n",
    "    # 存储每个分层的 方差\n",
    "    strata_vars_control = []\n",
    "    strata_vars_treated = []\n",
    "\n",
    "    #存储每个分层的样本量\n",
    "    strata_sizes = []\n",
    "\n",
    "\n",
    "    for s in range(n_strata):\n",
    "        df_strata = df[df['strata'] == s]\n",
    "        control = df_strata[df_strata['treatment'] == 0]['Y']\n",
    "        treated = df_strata[df_strata['treatment'] == 1]['Y']\n",
    "        \n",
    "        strata_means_control.append(control.mean())\n",
    "        strata_means_treated.append(treated.mean())\n",
    "\n",
    "        strata_vars_control.append(control.var())\n",
    "        strata_vars_treated.append(treated.var())\n",
    "        \n",
    "        strata_sizes.append(len(df_strata))\n",
    "    # 计算ATE\n",
    "    ate = np.dot(strata_weights, np.array(strata_means_treated)) - np.dot(strata_weights, np.array(strata_means_control))\n",
    "\n",
    "    n_control = len(df[df['treatment'] == 0])\n",
    "    n_treated = len(df[df['treatment'] == 1])\n",
    "    #计算ATE的方差\n",
    "    var_ate = 1 / n_control * np.dot(strata_weights, np.array(strata_vars_control)) + 1 / n_treated * np.dot(strata_weights, np.array(strata_vars_treated)) +\\\n",
    "                1/n_control**2 *np.dot(1-strata_weights, np.array(strata_vars_control)) + 1/n_treated**2 *np.dot(1-strata_weights, np.array(strata_vars_treated))\n",
    "    se = np.sqrt(var_ate)\n",
    "    ci_low = ate - 1.96 * se\n",
    "    ci_high = ate + 1.96 * se\n",
    "    t_stat = ate / se\n",
    "    p_value = 2 * (1 - stats.norm.cdf(abs(t_stat)))\n",
    "    \n",
    "    return {\n",
    "        'method': 'Post-Stratification',\n",
    "        'ate': ate,\n",
    "        'se': se,\n",
    "        'ci_low': ci_low,\n",
    "        'ci_high': ci_high,\n",
    "        'p_value': p_value\n",
    "    }"
   ]
  },
  {
   "cell_type": "code",
   "execution_count": 28,
   "id": "54dab0be",
   "metadata": {},
   "outputs": [
    {
     "data": {
      "text/plain": [
       "{'method': 'Post-Stratification',\n",
       " 'ate': np.float64(0.028270895578820898),\n",
       " 'se': np.float64(0.09722197409053267),\n",
       " 'ci_low': np.float64(-0.16228417363862313),\n",
       " 'ci_high': np.float64(0.21882596479626493),\n",
       " 'p_value': np.float64(0.7712141544885893)}"
      ]
     },
     "execution_count": 28,
     "metadata": {},
     "output_type": "execute_result"
    }
   ],
   "source": [
    "stratified_sampling(df_stratified, strata_weights)"
   ]
  },
  {
   "cell_type": "code",
   "execution_count": 21,
   "id": "0e48656b",
   "metadata": {},
   "outputs": [],
   "source": [
    "def stratified_sampling(df):\n",
    "    strata_means = []\n",
    "    strata_vars = []\n",
    "    \n",
    "    for s in range(n_strata):\n",
    "        df_strata = df[df['strata'] == s]\n",
    "        control = df_strata[df_strata['treatment_stratified'] == 0]['Y']\n",
    "        treated = df_strata[df_strata['treatment_stratified'] == 1]['Y']\n",
    "        \n",
    "        strata_means.append(treated.mean() - control.mean())\n",
    "        strata_vars.append(control.var()/len(control) + treated.var()/len(treated))\n",
    "        \n",
    "    # 使用实验前的分层比例作为权重\n",
    "    ate = np.dot(strata_weights, strata_means)\n",
    "    var_ate = np.dot(strata_weights**2, strata_vars)\n",
    "    se = np.sqrt(var_ate)\n",
    "    ci_low = ate - 1.96 * se\n",
    "    ci_high = ate + 1.96 * se\n",
    "    t_stat = ate / se\n",
    "    p_value = 2 * (1 - stats.norm.cdf(abs(t_stat)))\n",
    "    \n",
    "    return {\n",
    "        'method': 'Stratified Sampling',\n",
    "        'ate': ate,\n",
    "        'se': se,\n",
    "        'ci_low': ci_low,\n",
    "        'ci_high': ci_high,\n",
    "        'p_value': p_value\n",
    "    }"
   ]
  },
  {
   "cell_type": "code",
   "execution_count": null,
   "id": "0e752042",
   "metadata": {},
   "outputs": [],
   "source": [
    "def post_stratification(df):\n",
    "    strata_means = []\n",
    "    strata_vars = []\n",
    "    strata_sizes = []\n",
    "\n",
    "\n",
    "    for s in range(n_strata):\n",
    "        df_strata = df[df['strata'] == s]\n",
    "        control = df_strata[df_strata['treatment'] == 0]['Y']\n",
    "        treated = df_strata[df_strata['treatment'] == 1]['Y']\n",
    "        \n",
    "        strata_means.append(treated.mean() - control.mean())\n",
    "        strata_vars.append(control.var()/len(control) + treated.var()/len(treated))\n",
    "        strata_sizes.append(len(df_strata))\n",
    "    \n",
    "    strata_weights = np.array(strata_sizes) / sum(strata_sizes)\n",
    "    ate = np.dot(strata_weights, strata_means)\n",
    "    var_ate = np.dot(strata_weights**2, strata_vars)\n",
    "    se = np.sqrt(var_ate)\n",
    "    ci_low = ate - 1.96 * se\n",
    "    ci_high = ate + 1.96 * se\n",
    "    t_stat = ate / se\n",
    "    p_value = 2 * (1 - stats.norm.cdf(abs(t_stat)))\n",
    "    \n",
    "    return {\n",
    "        'method': 'Post-Stratification',\n",
    "        'ate': ate,\n",
    "        'se': se,\n",
    "        'ci_low': ci_low,\n",
    "        'ci_high': ci_high,\n",
    "        'p_value': p_value\n",
    "    }"
   ]
  },
  {
   "cell_type": "code",
   "execution_count": 24,
   "id": "85c2b4c4",
   "metadata": {},
   "outputs": [
    {
     "data": {
      "text/plain": [
       "{'method': 'Post-Stratification',\n",
       " 'ate': np.float64(0.02728485429708627),\n",
       " 'se': np.float64(0.09683683676329485),\n",
       " 'ci_low': np.float64(-0.16251534575897164),\n",
       " 'ci_high': np.float64(0.21708505435314418),\n",
       " 'p_value': np.float64(0.7781266954297545)}"
      ]
     },
     "execution_count": 24,
     "metadata": {},
     "output_type": "execute_result"
    }
   ],
   "source": [
    "post_stratification(df)"
   ]
  },
  {
   "cell_type": "code",
   "execution_count": null,
   "id": "4da0f583",
   "metadata": {},
   "outputs": [],
   "source": [
    "def post_stratification(df):\n",
    "    # 存储每个分层的均值\n",
    "    strata_means_control = []\n",
    "    strata_means_treated = []\n",
    "    # 存储每个分层的 方差\n",
    "    strata_vars_control = []\n",
    "    strata_vars_treated = []\n",
    "\n",
    "    #存储每个分层的样本量\n",
    "    strata_sizes = []\n",
    "\n",
    "\n",
    "    for s in range(n_strata):\n",
    "        df_strata = df[df['strata'] == s]\n",
    "        control = df_strata[df_strata['treatment'] == 0]['Y']\n",
    "        treated = df_strata[df_strata['treatment'] == 1]['Y']\n",
    "        \n",
    "        strata_means_control.append(control.mean())\n",
    "        strata_means_treated.append(treated.mean())\n",
    "\n",
    "        strata_vars_control.append(control.var())\n",
    "        strata_vars_treated.append(treated.var())\n",
    "        \n",
    "        strata_sizes.append(len(df_strata))\n",
    "    # 计算权重\n",
    "    strata_weights = np.array(strata_sizes) / sum(strata_sizes)\n",
    "    # 计算ATE\n",
    "    ate = np.dot(strata_weights, np.array(strata_means_treated)) - np.dot(strata_weights, np.array(strata_means_control))\n",
    "\n",
    "    n_control = len(df[df['treatment'] == 0])\n",
    "    n_treated = len(df[df['treatment'] == 1])\n",
    "    #计算ATE的方差\n",
    "    var_ate = 1 / n_control * np.dot(strata_weights, np.array(strata_vars_control)) + 1 / n_treated * np.dot(strata_weights, np.array(strata_vars_treated))\n",
    "    se = np.sqrt(var_ate)\n",
    "    ci_low = ate - 1.96 * se\n",
    "    ci_high = ate + 1.96 * se\n",
    "    t_stat = ate / se\n",
    "    p_value = 2 * (1 - stats.norm.cdf(abs(t_stat)))\n",
    "    \n",
    "    return {\n",
    "        'method': 'Post-Stratification',\n",
    "        'ate': ate,\n",
    "        'se': se,\n",
    "        'ci_low': ci_low,\n",
    "        'ci_high': ci_high,\n",
    "        'p_value': p_value\n",
    "    }"
   ]
  },
  {
   "cell_type": "code",
   "execution_count": 25,
   "id": "238413ac",
   "metadata": {},
   "outputs": [
    {
     "data": {
      "text/plain": [
       "{'method': 'Post-Stratification',\n",
       " 'ate': np.float64(0.02728485429708627),\n",
       " 'se': np.float64(0.09683683676329485),\n",
       " 'ci_low': np.float64(-0.16251534575897164),\n",
       " 'ci_high': np.float64(0.21708505435314418),\n",
       " 'p_value': np.float64(0.7781266954297545)}"
      ]
     },
     "execution_count": 25,
     "metadata": {},
     "output_type": "execute_result"
    }
   ],
   "source": [
    "post_stratification(df)"
   ]
  },
  {
   "cell_type": "code",
   "execution_count": 29,
   "id": "c464a833",
   "metadata": {},
   "outputs": [],
   "source": [
    "def cuped(df):\n",
    "    # 使用对照组估计θ\n",
    "    control_df = df[df['treatment'] == 0]\n",
    "    X_mean = df['X'].mean()\n",
    "    model = sm.OLS(control_df['Y'], sm.add_constant(control_df['X'])).fit()\n",
    "    theta = model.params[1]\n",
    "    \n",
    "    # 计算调整后的Y\n",
    "    df['Y_adj'] = df['Y'] - theta * (df['X'] - X_mean)\n",
    "    \n",
    "    control = df[df['treatment'] == 0]['Y_adj']\n",
    "    treated = df[df['treatment'] == 1]['Y_adj']\n",
    "    \n",
    "    ate = treated.mean() - control.mean()\n",
    "    var_ate = control.var()/len(control) + treated.var()/len(treated)\n",
    "    se = np.sqrt(var_ate)\n",
    "    ci_low = ate - 1.96 * se\n",
    "    ci_high = ate + 1.96 * se\n",
    "    t_stat = ate / se\n",
    "    p_value = 2 * (1 - stats.norm.cdf(abs(t_stat)))\n",
    "    \n",
    "    return {\n",
    "        'method': 'CUPED',\n",
    "        'ate': ate,\n",
    "        'se': se,\n",
    "        'ci_low': ci_low,\n",
    "        'ci_high': ci_high,\n",
    "        'p_value': p_value\n",
    "    }"
   ]
  },
  {
   "cell_type": "code",
   "execution_count": 30,
   "id": "60b89460",
   "metadata": {},
   "outputs": [
    {
     "name": "stderr",
     "output_type": "stream",
     "text": [
      "/var/folders/ld/xlt0mcds67l9kmcwz7x332lr0000gn/T/ipykernel_69645/1212233746.py:6: FutureWarning: Series.__getitem__ treating keys as positions is deprecated. In a future version, integer keys will always be treated as labels (consistent with DataFrame behavior). To access a value by position, use `ser.iloc[pos]`\n",
      "  theta = model.params[1]\n"
     ]
    },
    {
     "data": {
      "text/plain": [
       "{'method': 'CUPED',\n",
       " 'ate': np.float64(0.03631764277105276),\n",
       " 'se': np.float64(0.060784556227788326),\n",
       " 'ci_low': np.float64(-0.08282008743541236),\n",
       " 'ci_high': np.float64(0.15545537297751788),\n",
       " 'p_value': np.float64(0.5501860104127316)}"
      ]
     },
     "execution_count": 30,
     "metadata": {},
     "output_type": "execute_result"
    }
   ],
   "source": [
    "cuped(df)"
   ]
  },
  {
   "cell_type": "code",
   "execution_count": null,
   "id": "837f483a",
   "metadata": {},
   "outputs": [],
   "source": []
  }
 ],
 "metadata": {
  "kernelspec": {
   "display_name": "base",
   "language": "python",
   "name": "python3"
  },
  "language_info": {
   "codemirror_mode": {
    "name": "ipython",
    "version": 3
   },
   "file_extension": ".py",
   "mimetype": "text/x-python",
   "name": "python",
   "nbconvert_exporter": "python",
   "pygments_lexer": "ipython3",
   "version": "3.13.5"
  }
 },
 "nbformat": 4,
 "nbformat_minor": 5
}
