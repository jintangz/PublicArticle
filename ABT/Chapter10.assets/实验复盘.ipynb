{
 "cells": [
  {
   "cell_type": "code",
   "execution_count": 1,
   "id": "591dbe60",
   "metadata": {},
   "outputs": [],
   "source": [
    "\n",
    "import numpy as np\n",
    "import matplotlib.pyplot as plt\n",
    "from scipy import stats\n",
    "import scipy\n",
    "# 设置中文显示\n",
    "plt.rcParams['font.sans-serif'] = ['Hiragino Sans GB']  # 指定默认字体\n",
    "plt.rcParams['axes.unicode_minus'] = False  # 解决负号显示问题\n",
    "\n",
    "# 设置主题\n",
    "plt.style.use('ggplot')\n"
   ]
  },
  {
   "cell_type": "code",
   "execution_count": 30,
   "id": "d587b94f",
   "metadata": {},
   "outputs": [
    {
     "name": "stdout",
     "output_type": "stream",
     "text": [
      "[ 9.42919819 10.20595626]\n"
     ]
    },
    {
     "data": {
      "text/plain": [
       "Text(0.5, 1.0, 'GMV均值差异分布图')"
      ]
     },
     "execution_count": 30,
     "metadata": {},
     "output_type": "execute_result"
    },
    {
     "data": {
      "image/png": "[encoded data removed]",
      "text/plain": [
       "<Figure size 1000x600 with 1 Axes>"
      ]
     },
     "metadata": {},
     "output_type": "display_data"
    }
   ],
   "source": [
    " # 数据生成\n",
    "# GMV\n",
    "gmv_control = np.random.normal(100, 10, 5000)\n",
    "gmv_treat = np.random.normal(110, 10, 5000)\n",
    "# 绘制GMV指标差异分布图\n",
    "x = []\n",
    "for i in range(1000):\n",
    "    gmv_control_sample = np.random.choice(gmv_control, 5000, replace=True).mean()\n",
    "    gmv_treat_sample = np.random.choice(gmv_treat, 5000, replace=True).mean()\n",
    "    x.append(gmv_treat_sample - gmv_control_sample)\n",
    "mean_diff = np.array(x)\n",
    "\n",
    "plt.figure(figsize=(10,6))\n",
    "plt.hist(x, bins=30, alpha=0.7, color='blue', edgecolor='black')\n",
    "plt.axvline(mean_diff.mean(), color='red', linestyle='dashed', linewidth=2)\n",
    "plt.axvline(np.quantile(mean_diff, 0.975), 0, 0.5, color='green', linestyle='dashed', linewidth=2)\n",
    "plt.axvline(np.quantile(mean_diff, 0.025), 0, 0.5, color='green', linestyle='dashed', linewidth=2),\n",
    "print(np.quantile(mean_diff, [0.025, 0.975]))\n",
    "plt.title('GMV均值差异分布图')"
   ]
  },
  {
   "cell_type": "code",
   "execution_count": 33,
   "id": "faf49648",
   "metadata": {},
   "outputs": [
    {
     "name": "stdout",
     "output_type": "stream",
     "text": [
      "0.04000871018447503\n",
      "9.422971803332013 10.2070427507411\n"
     ]
    }
   ],
   "source": [
    "mean_diff = gmv_treat.mean() - gmv_control.mean()\n",
    "var_diff = gmv_treat.var()/len(gmv_treat) + gmv_control.var()/len(gmv_control)\n",
    "z_score = mean_diff / np.sqrt(var_diff)\n",
    "ci_low, ci_upp = scipy.stats.norm.ppf(0.025, loc=0, scale=1), scipy.stats.norm.ppf(0.975, loc=0, scale=1),\n",
    "print(var_diff)\n",
    "print(mean_diff - ci_upp * np.sqrt(var_diff), mean_diff + ci_upp * np.sqrt(var_diff))"
   ]
  },
  {
   "cell_type": "code",
   "execution_count": 32,
   "id": "854f5d17",
   "metadata": {},
   "outputs": [
    {
     "data": {
      "text/plain": [
       "(np.float64(-1.9599639845400545), np.float64(1.959963984540054))"
      ]
     },
     "execution_count": 32,
     "metadata": {},
     "output_type": "execute_result"
    }
   ],
   "source": [
    "ci_low, ci_upp"
   ]
  },
  {
   "cell_type": "code",
   "execution_count": null,
   "id": "a8a01720",
   "metadata": {},
   "outputs": [
    {
     "name": "stdout",
     "output_type": "stream",
     "text": [
      "\u001b[31mSignature:\u001b[39m\n",
      "stats.kstest(\n",
      "    rvs,\n",
      "    cdf,\n",
      "    args=(),\n",
      "    N=\u001b[32m20\u001b[39m,\n",
      "    alternative=\u001b[33m'two-sided'\u001b[39m,\n",
      "    method=\u001b[33m'auto'\u001b[39m,\n",
      "    *,\n",
      "    axis=\u001b[32m0\u001b[39m,\n",
      "    nan_policy=\u001b[33m'propagate'\u001b[39m,\n",
      "    keepdims=\u001b[38;5;28;01mFalse\u001b[39;00m,\n",
      ")\n",
      "\u001b[31mDocstring:\u001b[39m\n",
      "Performs the (one-sample or two-sample) Kolmogorov-Smirnov test for\n",
      "goodness of fit.\n",
      "\n",
      "The one-sample test compares the underlying distribution F(x) of a sample\n",
      "against a given distribution G(x). The two-sample test compares the\n",
      "underlying distributions of two independent samples. Both tests are valid\n",
      "only for continuous distributions.\n",
      "\n",
      "Parameters\n",
      "----------\n",
      "rvs : str, array_like, or callable\n",
      "    If an array, it should be a 1-D array of observations of random\n",
      "    variables.\n",
      "    If a callable, it should be a function to generate random variables;\n",
      "    it is required to have a keyword argument `size`.\n",
      "    If a string, it should be the name of a distribution in `scipy.stats`,\n",
      "    which will be used to generate random variables.\n",
      "cdf : str, array_like or callable\n",
      "    If array_like, it should be a 1-D array of observations of random\n",
      "    variables, and the two-sample test is performed\n",
      "    (and rvs must be array_like).\n",
      "    If a callable, that callable is used to calculate the cdf.\n",
      "    If a string, it should be the name of a distribution in `scipy.stats`,\n",
      "    which will be used as the cdf function.\n",
      "args : tuple, sequence, optional\n",
      "    Distribution parameters, used if `rvs` or `cdf` are strings or\n",
      "    callables.\n",
      "N : int, optional\n",
      "    Sample size if `rvs` is string or callable.  Default is 20.\n",
      "alternative : {'two-sided', 'less', 'greater'}, optional\n",
      "    Defines the null and alternative hypotheses. Default is 'two-sided'.\n",
      "    Please see explanations in the Notes below.\n",
      "method : {'auto', 'exact', 'approx', 'asymp'}, optional\n",
      "    Defines the distribution used for calculating the p-value.\n",
      "    The following options are available (default is 'auto'):\n",
      "    \n",
      "      * 'auto' : selects one of the other options.\n",
      "      * 'exact' : uses the exact distribution of test statistic.\n",
      "      * 'approx' : approximates the two-sided probability with twice the\n",
      "        one-sided probability\n",
      "      * 'asymp': uses asymptotic distribution of test statistic\n",
      "axis : int or None, default: 0\n",
      "    If an int, the axis of the input along which to compute the statistic.\n",
      "    The statistic of each axis-slice (e.g. row) of the input will appear in a\n",
      "    corresponding element of the output.\n",
      "    If ``None``, the input will be raveled before computing the statistic.\n",
      "nan_policy : {'propagate', 'omit', 'raise'}\n",
      "    Defines how to handle input NaNs.\n",
      "    \n",
      "    - ``propagate``: if a NaN is present in the axis slice (e.g. row) along\n",
      "      which the  statistic is computed, the corresponding entry of the output\n",
      "      will be NaN.\n",
      "    - ``omit``: NaNs will be omitted when performing the calculation.\n",
      "      If insufficient data remains in the axis slice along which the\n",
      "      statistic is computed, the corresponding entry of the output will be\n",
      "      NaN.\n",
      "    - ``raise``: if a NaN is present, a ``ValueError`` will be raised.\n",
      "keepdims : bool, default: False\n",
      "    If this is set to True, the axes which are reduced are left\n",
      "    in the result as dimensions with size one. With this option,\n",
      "    the result will broadcast correctly against the input array.\n",
      "\n",
      "Returns\n",
      "-------\n",
      "res: KstestResult\n",
      "    An object containing attributes:\n",
      "    \n",
      "    statistic : float\n",
      "        KS test statistic, either D+, D-, or D (the maximum of the two)\n",
      "    pvalue : float\n",
      "        One-tailed or two-tailed p-value.\n",
      "    statistic_location : float\n",
      "        In a one-sample test, this is the value of `rvs`\n",
      "        corresponding with the KS statistic; i.e., the distance between\n",
      "        the empirical distribution function and the hypothesized cumulative\n",
      "        distribution function is measured at this observation.\n",
      "    \n",
      "        In a two-sample test, this is the value from `rvs` or `cdf`\n",
      "        corresponding with the KS statistic; i.e., the distance between\n",
      "        the empirical distribution functions is measured at this\n",
      "        observation.\n",
      "    statistic_sign : int\n",
      "        In a one-sample test, this is +1 if the KS statistic is the\n",
      "        maximum positive difference between the empirical distribution\n",
      "        function and the hypothesized cumulative distribution function\n",
      "        (D+); it is -1 if the KS statistic is the maximum negative\n",
      "        difference (D-).\n",
      "    \n",
      "        In a two-sample test, this is +1 if the empirical distribution\n",
      "        function of `rvs` exceeds the empirical distribution\n",
      "        function of `cdf` at `statistic_location`, otherwise -1.\n",
      "\n",
      "See Also\n",
      "--------\n",
      "\n",
      ":func:`ks_1samp`, :func:`ks_2samp`\n",
      "    ..\n",
      "\n",
      "Notes\n",
      "-----\n",
      "There are three options for the null and corresponding alternative\n",
      "hypothesis that can be selected using the `alternative` parameter.\n",
      "\n",
      "- `two-sided`: The null hypothesis is that the two distributions are\n",
      "  identical, F(x)=G(x) for all x; the alternative is that they are not\n",
      "  identical.\n",
      "\n",
      "- `less`: The null hypothesis is that F(x) >= G(x) for all x; the\n",
      "  alternative is that F(x) < G(x) for at least one x.\n",
      "\n",
      "- `greater`: The null hypothesis is that F(x) <= G(x) for all x; the\n",
      "  alternative is that F(x) > G(x) for at least one x.\n",
      "\n",
      "Note that the alternative hypotheses describe the *CDFs* of the\n",
      "underlying distributions, not the observed values. For example,\n",
      "suppose x1 ~ F and x2 ~ G. If F(x) > G(x) for all x, the values in\n",
      "x1 tend to be less than those in x2.\n",
      "\n",
      "Beginning in SciPy 1.9, ``np.matrix`` inputs (not recommended for new\n",
      "code) are converted to ``np.ndarray`` before the calculation is performed. In\n",
      "this case, the output will be a scalar or ``np.ndarray`` of appropriate shape\n",
      "rather than a 2D ``np.matrix``. Similarly, while masked elements of masked\n",
      "arrays are ignored, the output will be a scalar or ``np.ndarray`` rather than a\n",
      "masked array with ``mask=False``.\n",
      "\n",
      "Examples\n",
      "--------\n",
      "Suppose we wish to test the null hypothesis that a sample is distributed\n",
      "according to the standard normal.\n",
      "We choose a confidence level of 95%; that is, we will reject the null\n",
      "hypothesis in favor of the alternative if the p-value is less than 0.05.\n",
      "\n",
      "When testing uniformly distributed data, we would expect the\n",
      "null hypothesis to be rejected.\n",
      "\n",
      ">>> import numpy as np\n",
      ">>> from scipy import stats\n",
      ">>> rng = np.random.default_rng()\n",
      ">>> stats.kstest(stats.uniform.rvs(size=100, random_state=rng),\n",
      "...              stats.norm.cdf)\n",
      "KstestResult(statistic=0.5001899973268688,\n",
      "             pvalue=1.1616392184763533e-23,\n",
      "             statistic_location=0.00047625268963724654,\n",
      "             statistic_sign=-1)\n",
      "\n",
      "Indeed, the p-value is lower than our threshold of 0.05, so we reject the\n",
      "null hypothesis in favor of the default \"two-sided\" alternative: the data\n",
      "are *not* distributed according to the standard normal.\n",
      "\n",
      "When testing random variates from the standard normal distribution, we\n",
      "expect the data to be consistent with the null hypothesis most of the time.\n",
      "\n",
      ">>> x = stats.norm.rvs(size=100, random_state=rng)\n",
      ">>> stats.kstest(x, stats.norm.cdf)\n",
      "KstestResult(statistic=0.05345882212970396,\n",
      "             pvalue=0.9227159037744717,\n",
      "             statistic_location=-1.2451343873745018,\n",
      "             statistic_sign=1)\n",
      "\n",
      "As expected, the p-value of 0.92 is not below our threshold of 0.05, so\n",
      "we cannot reject the null hypothesis.\n",
      "\n",
      "Suppose, however, that the random variates are distributed according to\n",
      "a normal distribution that is shifted toward greater values. In this case,\n",
      "the cumulative density function (CDF) of the underlying distribution tends\n",
      "to be *less* than the CDF of the standard normal. Therefore, we would\n",
      "expect the null hypothesis to be rejected with ``alternative='less'``:\n",
      "\n",
      ">>> x = stats.norm.rvs(size=100, loc=0.5, random_state=rng)\n",
      ">>> stats.kstest(x, stats.norm.cdf, alternative='less')\n",
      "KstestResult(statistic=0.17482387821055168,\n",
      "             pvalue=0.001913921057766743,\n",
      "             statistic_location=0.3713830565352756,\n",
      "             statistic_sign=-1)\n",
      "\n",
      "and indeed, with p-value smaller than our threshold, we reject the null\n",
      "hypothesis in favor of the alternative.\n",
      "\n",
      "For convenience, the previous test can be performed using the name of the\n",
      "distribution as the second argument.\n",
      "\n",
      ">>> stats.kstest(x, \"norm\", alternative='less')\n",
      "KstestResult(statistic=0.17482387821055168,\n",
      "             pvalue=0.001913921057766743,\n",
      "             statistic_location=0.3713830565352756,\n",
      "             statistic_sign=-1)\n",
      "\n",
      "The examples above have all been one-sample tests identical to those\n",
      "performed by `ks_1samp`. Note that `kstest` can also perform two-sample\n",
      "tests identical to those performed by `ks_2samp`. For example, when two\n",
      "samples are drawn from the same distribution, we expect the data to be\n",
      "consistent with the null hypothesis most of the time.\n",
      "\n",
      ">>> sample1 = stats.laplace.rvs(size=105, random_state=rng)\n",
      ">>> sample2 = stats.laplace.rvs(size=95, random_state=rng)\n",
      ">>> stats.kstest(sample1, sample2)\n",
      "KstestResult(statistic=0.11779448621553884,\n",
      "             pvalue=0.4494256912629795,\n",
      "             statistic_location=0.6138814275424155,\n",
      "             statistic_sign=1)\n",
      "\n",
      "As expected, the p-value of 0.45 is not below our threshold of 0.05, so\n",
      "we cannot reject the null hypothesis.\n",
      "\u001b[31mFile:\u001b[39m      /opt/miniconda3/lib/python3.13/site-packages/scipy/stats/_stats_py.py\n",
      "\u001b[31mType:\u001b[39m      function"
     ]
    }
   ],
   "source": [
    "stats.kstest()"
   ]
  },
  {
   "cell_type": "code",
   "execution_count": 2,
   "id": "7d0ec5ab",
   "metadata": {},
   "outputs": [],
   "source": [
    "data = np.random.normal(0, 1, 1000)"
   ]
  },
  {
   "cell_type": "code",
   "execution_count": 6,
   "id": "707659a9",
   "metadata": {},
   "outputs": [
    {
     "data": {
      "text/plain": [
       "(np.float64(0.9639014710248563), np.float64(0.9817848394759701))"
      ]
     },
     "execution_count": 6,
     "metadata": {},
     "output_type": "execute_result"
    }
   ],
   "source": [
    "data.var(ddof=1),data.std(ddof=1)"
   ]
  },
  {
   "cell_type": "code",
   "execution_count": 5,
   "id": "abc8e6ac",
   "metadata": {},
   "outputs": [
    {
     "data": {
      "text/plain": [
       "np.float64(0.9639014710248563)"
      ]
     },
     "execution_count": 5,
     "metadata": {},
     "output_type": "execute_result"
    }
   ],
   "source": [
    "((data - data.mean())**2).sum()/(data.shape[0]-1)"
   ]
  },
  {
   "cell_type": "code",
   "execution_count": null,
   "id": "bb36bfaa",
   "metadata": {},
   "outputs": [],
   "source": []
  }
 ],
 "metadata": {
  "kernelspec": {
   "display_name": "base",
   "language": "python",
   "name": "python3"
  },
  "language_info": {
   "codemirror_mode": {
    "name": "ipython",
    "version": 3
   },
   "file_extension": ".py",
   "mimetype": "text/x-python",
   "name": "python",
   "nbconvert_exporter": "python",
   "pygments_lexer": "ipython3",
   "version": "3.13.5"
  }
 },
 "nbformat": 4,
 "nbformat_minor": 5
}
