{
 "cells": [
  {
   "cell_type": "code",
   "execution_count": 1,
   "id": "a0722d92",
   "metadata": {},
   "outputs": [],
   "source": [
    "import os\n",
    "import sys\n",
    "\n",
    "import numpy as np\n",
    "import pandas as pd\n",
    "\n",
    "import matplotlib.pyplot as plt\n",
    "\n",
    "\n",
    "# 设置中文显示\n",
    "plt.rcParams['font.sans-serif'] = ['Hiragino Sans GB']  # 指定默认字体\n",
    "plt.rcParams['axes.unicode_minus'] = False  # 解决负号显示问题\n",
    "\n",
    "# 设置主题\n",
    "plt.style.use('ggplot')"
   ]
  },
  {
   "cell_type": "code",
   "execution_count": 2,
   "id": "c1cb3e23",
   "metadata": {},
   "outputs": [],
   "source": [
    "treat = np.random.normal(100, 20, 2001)\n",
    "control = np.random.normal(90, 30, 1998)\n",
    "\n",
    "# 将负值设为0\n",
    "treat[treat < 0] = 0\n",
    "control[control < 0] = 0"
   ]
  },
  {
   "cell_type": "code",
   "execution_count": 3,
   "id": "20a776c1",
   "metadata": {},
   "outputs": [],
   "source": [
    "def delta_method(treat, control):\n",
    "    n_treat = len(treat)\n",
    "    n_control = len(control)\n",
    "    mean_treat = np.mean(treat)\n",
    "    mean_control = np.mean(control)\n",
    "    var_treat = np.var(treat, ddof=1)\n",
    "    var_control = np.var(control, ddof=1)\n",
    "\n",
    "    increase_rate = mean_treat / mean_control - 1\n",
    "    increase_rate_var = (var_treat / n_treat) / (mean_control ** 2) + (var_control / n_control) * (mean_treat ** 2) / (mean_control ** 4)\n",
    "    return {\n",
    "        'n_treat': n_treat,\n",
    "        'n_control': n_control,\n",
    "        'treat_mean': mean_treat,\n",
    "        'control_mean': mean_control,\n",
    "        'increase_rate': increase_rate,\n",
    "        'treat_var': var_treat,\n",
    "        'control_var': var_control,\n",
    "        'increase_rate_var': increase_rate_var,\n",
    "        'ci_low': increase_rate - 1.96 * np.sqrt(increase_rate_var),\n",
    "        'ci_high': increase_rate + 1.96 * np.sqrt(increase_rate_var)\n",
    "    }"
   ]
  },
  {
   "cell_type": "code",
   "execution_count": 10,
   "id": "d455e996",
   "metadata": {},
   "outputs": [],
   "source": [
    "def bootstrap(treat, control, n_bootstrap=1000):\n",
    "    \"\"\"计算两组数据的均值差的bootstrap置信区间\"\"\"\n",
    "    n_treat = len(treat)\n",
    "    n_control = len(control)\n",
    "    mean_treat = []\n",
    "    mean_control = []\n",
    "\n",
    "    for _ in range(n_bootstrap):\n",
    "        sample1 = np.random.choice(treat, size=n_treat, replace=True)\n",
    "        sample2 = np.random.choice(control, size=n_control, replace=True)\n",
    "        mean_treat.append(np.mean(sample1))\n",
    "        mean_control.append(np.mean(sample2))\n",
    "\n",
    "    boot_diffs = (np.array(mean_treat) - np.array(mean_control)) / np.array(mean_control)\n",
    "\n",
    "    return {\n",
    "        'n_treat': n_treat,\n",
    "        'n_control': n_control,\n",
    "        'treat_mean': np.mean(treat),\n",
    "        'control_mean': np.mean(control),\n",
    "        'increase_rate': np.mean(boot_diffs),\n",
    "        'increase_rate_var': np.var(boot_diffs, ddof=1),\n",
    "        'ci_low': np.percentile(boot_diffs, 2.5),\n",
    "        'ci_high': np.percentile(boot_diffs, 97.5)\n",
    "    }"
   ]
  },
  {
   "cell_type": "code",
   "execution_count": 8,
   "id": "6893e74e",
   "metadata": {},
   "outputs": [
    {
     "data": {
      "text/plain": [
       "{'n_treat': 2001,\n",
       " 'n_control': 1998,\n",
       " 'treat_mean': np.float64(100.31980862401721),\n",
       " 'control_mean': np.float64(90.00003803521572),\n",
       " 'increase_rate': np.float64(0.11466406919476535),\n",
       " 'treat_var': np.float64(427.6122874590181),\n",
       " 'control_var': np.float64(877.87668532801),\n",
       " 'increase_rate_var': np.float64(9.377961961768836e-05),\n",
       " 'ci_low': np.float64(0.09568345311616264),\n",
       " 'ci_high': np.float64(0.13364468527336806)}"
      ]
     },
     "execution_count": 8,
     "metadata": {},
     "output_type": "execute_result"
    }
   ],
   "source": [
    "delta_method(treat, control)"
   ]
  },
  {
   "cell_type": "code",
   "execution_count": 9,
   "id": "35d493ff",
   "metadata": {},
   "outputs": [
    {
     "data": {
      "text/plain": [
       "{'n_treat': 2001,\n",
       " 'n_control': 1998,\n",
       " 'treat_mean': np.float64(100.31980862401721),\n",
       " 'control_mean': np.float64(90.00003803521572),\n",
       " 'increase_rate': np.float64(0.11466406919476535),\n",
       " 'increase_rate2': np.float64(0.11466702034662611),\n",
       " 'increase_rate_var': np.float64(9.666187871803547e-05),\n",
       " 'ci_low': np.float64(0.09544539567638048),\n",
       " 'ci_high': np.float64(0.13402685972193015)}"
      ]
     },
     "execution_count": 9,
     "metadata": {},
     "output_type": "execute_result"
    }
   ],
   "source": [
    "bootstrap(treat, control)"
   ]
  },
  {
   "cell_type": "code",
   "execution_count": null,
   "id": "324e8104",
   "metadata": {},
   "outputs": [],
   "source": []
  }
 ],
 "metadata": {
  "kernelspec": {
   "display_name": "base",
   "language": "python",
   "name": "python3"
  },
  "language_info": {
   "codemirror_mode": {
    "name": "ipython",
    "version": 3
   },
   "file_extension": ".py",
   "mimetype": "text/x-python",
   "name": "python",
   "nbconvert_exporter": "python",
   "pygments_lexer": "ipython3",
   "version": "3.13.5"
  }
 },
 "nbformat": 4,
 "nbformat_minor": 5
}
